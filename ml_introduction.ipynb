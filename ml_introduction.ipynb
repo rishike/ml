{
 "cells": [
  {
   "cell_type": "markdown",
   "metadata": {},
   "source": [
    "#### Machine Learning\n",
    "Machine Learning is a class of algorithms which are data-driven. unlike classical algorithms, it is the data that defines a good answer and Not the human.\n",
    "\n",
    "#### Example:\n",
    "A Non-machine learning algorithm might define a face as having a roundish structure, two eyes,hair, nose, etc. The algorithm then looks for these `hard-coded` features in test cases.\n",
    "\n",
    "A machine learning algorithm might only be given several pictures of faces and non-faces that are labeled as such. From the examples (called the training set) it would \"figure out\" it's own definition of a face."
   ]
  },
  {
   "cell_type": "markdown",
   "metadata": {},
   "source": [
    "#### Supervised learning\n",
    "1. All about making predictions\n",
    "2. List of \"Predictors\" X\n",
    "    . Also known as features, independent variables, inputs, regressors, covariates, attributes\n",
    "3. \"Response\" Y\n",
    "    1. Also known as outcome, label, target, dependent variable\n",
    "4. if y is continuous: Regression\n",
    "    1.  e.g. price, blood pressure\n",
    "5. if y is categorical ( value in a finite, unordered set): Classfication\n",
    "    1. e.g spam/ham, digit 0-9, cancer class of tissue sample\n",
    "6. Data are composed of \"observations\" (predictors and the associative response)\n",
    "    1. Alsko known as samples, example instances, records\n",
    "7. Supervised learning uses known/labeled \"training cases\" in order too:\n",
    "    1. Accurtely predict unseen test cases\n",
    "    2. Understand which predictors affect the response, and how\n",
    "    3. Use the past to predict the future\n"
   ]
  },
  {
   "cell_type": "markdown",
   "metadata": {},
   "source": [
    "#### Unsupervised learning\n",
    "1. No response variable y, just a set of predictors X\n",
    "2. Objective is more open:\n",
    "    1. Find groups of observations that behave similarly\n",
    "    2. Find predictors that behave similarly\n",
    "    3. Find combinations of features that explain the variation in the data.\n",
    "3. Difficult to evaluate how well you are doing\n",
    "4. Data is easier to obtain for unsupervised learning since it can be \"unlabeled\" (i.e., it has not been labeled with a response)\n",
    "5. Someteimes useful as a preprocessing step for supervised learning\n",
    "6. Common techniques: clustering, principal component analysis\n",
    "7. unlabeled data"
   ]
  }
 ],
 "metadata": {
  "kernelspec": {
   "display_name": "Python 3",
   "language": "python",
   "name": "python3"
  },
  "language_info": {
   "codemirror_mode": {
    "name": "ipython",
    "version": 3
   },
   "file_extension": ".py",
   "mimetype": "text/x-python",
   "name": "python",
   "nbconvert_exporter": "python",
   "pygments_lexer": "ipython3",
   "version": "3.8.3"
  }
 },
 "nbformat": 4,
 "nbformat_minor": 4
}
